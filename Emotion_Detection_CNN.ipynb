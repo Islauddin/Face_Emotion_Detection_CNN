{
  "nbformat": 4,
  "nbformat_minor": 0,
  "metadata": {
    "colab": {
      "provenance": [],
      "gpuType": "T4",
      "authorship_tag": "ABX9TyNslqtWCsWV1wvwdcWxDyHm",
      "include_colab_link": true
    },
    "kernelspec": {
      "name": "python3",
      "display_name": "Python 3"
    },
    "language_info": {
      "name": "python"
    },
    "accelerator": "GPU"
  },
  "cells": [
    {
      "cell_type": "markdown",
      "metadata": {
        "id": "view-in-github",
        "colab_type": "text"
      },
      "source": [
        "<a href=\"https://colab.research.google.com/github/Islauddin/Emotion_Detection_CNN/blob/main/Emotion_Detection_CNN.ipynb\" target=\"_parent\"><img src=\"https://colab.research.google.com/assets/colab-badge.svg\" alt=\"Open In Colab\"/></a>"
      ]
    },
    {
      "cell_type": "code",
      "source": [
        "import pandas as pd\n",
        "import numpy as np"
      ],
      "metadata": {
        "id": "YMEXZx82CBBw"
      },
      "execution_count": 36,
      "outputs": []
    },
    {
      "cell_type": "code",
      "execution_count": 37,
      "metadata": {
        "id": "ufLHMpQIghnu"
      },
      "outputs": [],
      "source": [
        "df = pd.read_csv('/content/fer2013.csv')"
      ]
    },
    {
      "cell_type": "code",
      "source": [
        "X_train = []\n",
        "y_train = []\n",
        "X_test = []\n",
        "y_test = []\n",
        "for index, row in df.iterrows():\n",
        "    k = row['pixels'].split(\" \")\n",
        "    if row['Usage'] == 'Training':\n",
        "        X_train.append(np.array(k))\n",
        "        y_train.append(row['emotion'])\n",
        "    elif row['Usage'] == 'PublicTest':\n",
        "        X_test.append(np.array(k))\n",
        "        y_test.append(row['emotion'])"
      ],
      "metadata": {
        "id": "EVQj24CtCG4w"
      },
      "execution_count": 38,
      "outputs": []
    },
    {
      "cell_type": "code",
      "source": [
        "X_train[0]"
      ],
      "metadata": {
        "colab": {
          "base_uri": "https://localhost:8080/"
        },
        "id": "1SXgDB6bCY2S",
        "outputId": "f70cec31-6779-4a7f-a56f-9d13cdecfef5"
      },
      "execution_count": 39,
      "outputs": [
        {
          "output_type": "execute_result",
          "data": {
            "text/plain": [
              "array(['70', '80', '82', ..., '106', '109', '82'], dtype='<U3')"
            ]
          },
          "metadata": {},
          "execution_count": 39
        }
      ]
    },
    {
      "cell_type": "code",
      "source": [
        "X_train = np.array(X_train, dtype = 'uint8')\n",
        "y_train = np.array(y_train, dtype = 'uint8')\n",
        "X_test = np.array(X_test, dtype = 'uint8')\n",
        "y_test = np.array(y_test, dtype = 'uint8')"
      ],
      "metadata": {
        "id": "8qiAIyFPCg8B"
      },
      "execution_count": 40,
      "outputs": []
    },
    {
      "cell_type": "code",
      "source": [
        "import keras\n",
        "from keras.utils import to_categorical\n",
        "y_train= to_categorical(y_train, num_classes=7)\n",
        "y_test = to_categorical(y_test, num_classes=7)"
      ],
      "metadata": {
        "id": "ip00vLK_CmnV"
      },
      "execution_count": 41,
      "outputs": []
    },
    {
      "cell_type": "code",
      "source": [
        "X_train = X_train.reshape(X_train.shape[0], 48, 48, 1)\n",
        "X_test = X_test.reshape(X_test.shape[0], 48, 48, 1)\n"
      ],
      "metadata": {
        "id": "P3n8Rf_wComh"
      },
      "execution_count": 42,
      "outputs": []
    },
    {
      "cell_type": "code",
      "source": [
        "from keras.preprocessing.image import ImageDataGenerator\n",
        "datagen = ImageDataGenerator(\n",
        "    rescale=1./255,\n",
        "    rotation_range = 10,\n",
        "    horizontal_flip = True,\n",
        "    width_shift_range=0.1,\n",
        "    height_shift_range=0.1,\n",
        "    fill_mode = 'nearest')\n",
        "testgen = ImageDataGenerator(rescale=1./255)\n",
        "datagen.fit(X_train)\n",
        "batch_size = 64"
      ],
      "metadata": {
        "id": "3tYPcUYnCqfi"
      },
      "execution_count": 43,
      "outputs": []
    },
    {
      "cell_type": "code",
      "source": [
        "train_flow = datagen.flow(X_train, y_train, batch_size=batch_size)\n",
        "test_flow = testgen.flow(X_test, y_test, batch_size=batch_size)"
      ],
      "metadata": {
        "id": "nh3kpD0tCsmn"
      },
      "execution_count": 44,
      "outputs": []
    },
    {
      "cell_type": "code",
      "source": [
        "from keras.utils import plot_model\n",
        "from keras.models import Model\n",
        "from keras.layers import Input, Dense, Flatten, Dropout, BatchNormalization\n",
        "from keras.layers.convolutional import Conv2D\n",
        "from keras.layers.pooling import MaxPooling2D\n",
        "from keras.layers import concatenate\n",
        "from keras.optimizers import Adam, SGD\n",
        "from keras.regularizers import l1, l2\n",
        "from matplotlib import pyplot as plt\n",
        "from sklearn.metrics import confusion_matrix"
      ],
      "metadata": {
        "id": "tTr9Jxl9Cu81"
      },
      "execution_count": 45,
      "outputs": []
    },
    {
      "cell_type": "code",
      "source": [
        "def FER_Model(input_shape=(48,48,1)):\n",
        "    # first input model\n",
        "    visible = Input(shape=input_shape, name='input')\n",
        "    num_classes = 7\n",
        "    #the 1-st block\n",
        "    conv1_1 = Conv2D(64, kernel_size=3, activation='relu', padding='same', name = 'conv1_1')(visible)\n",
        "    conv1_1 = BatchNormalization()(conv1_1)\n",
        "    conv1_2 = Conv2D(64, kernel_size=3, activation='relu', padding='same', name = 'conv1_2')(conv1_1)\n",
        "    conv1_2 = BatchNormalization()(conv1_2)\n",
        "    pool1_1 = MaxPooling2D(pool_size=(2,2), name = 'pool1_1')(conv1_2)\n",
        "    drop1_1 = Dropout(0.3, name = 'drop1_1')(pool1_1)#the 2-nd block\n",
        "    conv2_1 = Conv2D(128, kernel_size=3, activation='relu', padding='same', name = 'conv2_1')(drop1_1)\n",
        "    conv2_1 = BatchNormalization()(conv2_1)\n",
        "    conv2_2 = Conv2D(128, kernel_size=3, activation='relu', padding='same', name = 'conv2_2')(conv2_1)\n",
        "    conv2_2 = BatchNormalization()(conv2_2)\n",
        "    conv2_3 = Conv2D(128, kernel_size=3, activation='relu', padding='same', name = 'conv2_3')(conv2_2)\n",
        "    conv2_2 = BatchNormalization()(conv2_3)\n",
        "    pool2_1 = MaxPooling2D(pool_size=(2,2), name = 'pool2_1')(conv2_3)\n",
        "    drop2_1 = Dropout(0.3, name = 'drop2_1')(pool2_1)#the 3-rd block\n",
        "    conv3_1 = Conv2D(256, kernel_size=3, activation='relu', padding='same', name = 'conv3_1')(drop2_1)\n",
        "    conv3_1 = BatchNormalization()(conv3_1)\n",
        "    conv3_2 = Conv2D(256, kernel_size=3, activation='relu', padding='same', name = 'conv3_2')(conv3_1)\n",
        "    conv3_2 = BatchNormalization()(conv3_2)\n",
        "    conv3_3 = Conv2D(256, kernel_size=3, activation='relu', padding='same', name = 'conv3_3')(conv3_2)\n",
        "    conv3_3 = BatchNormalization()(conv3_3)\n",
        "    conv3_4 = Conv2D(256, kernel_size=3, activation='relu', padding='same', name = 'conv3_4')(conv3_3)\n",
        "    conv3_4 = BatchNormalization()(conv3_4)\n",
        "    pool3_1 = MaxPooling2D(pool_size=(2,2), name = 'pool3_1')(conv3_4)\n",
        "    drop3_1 = Dropout(0.3, name = 'drop3_1')(pool3_1)#the 4-th block\n",
        "    conv4_1 = Conv2D(256, kernel_size=3, activation='relu', padding='same', name = 'conv4_1')(drop3_1)\n",
        "    conv4_1 = BatchNormalization()(conv4_1)\n",
        "    conv4_2 = Conv2D(256, kernel_size=3, activation='relu', padding='same', name = 'conv4_2')(conv4_1)\n",
        "    conv4_2 = BatchNormalization()(conv4_2)\n",
        "    conv4_3 = Conv2D(256, kernel_size=3, activation='relu', padding='same', name = 'conv4_3')(conv4_2)\n",
        "    conv4_3 = BatchNormalization()(conv4_3)\n",
        "    conv4_4 = Conv2D(256, kernel_size=3, activation='relu', padding='same', name = 'conv4_4')(conv4_3)\n",
        "    conv4_4 = BatchNormalization()(conv4_4)\n",
        "    pool4_1 = MaxPooling2D(pool_size=(2,2), name = 'pool4_1')(conv4_4)\n",
        "    drop4_1 = Dropout(0.3, name = 'drop4_1')(pool4_1)\n",
        "    #the 5-th block\n",
        "    conv5_1 = Conv2D(512, kernel_size=3, activation='relu', padding='same', name = 'conv5_1')(drop4_1)\n",
        "    conv5_1 = BatchNormalization()(conv5_1)\n",
        "    conv5_2 = Conv2D(512, kernel_size=3, activation='relu', padding='same', name = 'conv5_2')(conv5_1)\n",
        "    conv5_2 = BatchNormalization()(conv5_2)\n",
        "    conv5_3 = Conv2D(512, kernel_size=3, activation='relu', padding='same', name = 'conv5_3')(conv5_2)\n",
        "    conv5_3 = BatchNormalization()(conv5_3)\n",
        "    conv5_4 = Conv2D(512, kernel_size=3, activation='relu', padding='same', name = 'conv5_4')(conv5_3)\n",
        "    conv5_3 = BatchNormalization()(conv5_3)\n",
        "    pool5_1 = MaxPooling2D(pool_size=(2,2), name = 'pool5_1')(conv5_4)\n",
        "    drop5_1 = Dropout(0.3, name = 'drop5_1')(pool5_1)#Flatten and output\n",
        "    flatten = Flatten(name = 'flatten')(drop5_1)\n",
        "    ouput = Dense(num_classes, activation='softmax', name = 'output')(flatten)# create model\n",
        "    model = Model(inputs =visible, outputs = ouput)\n",
        "    # summary layers\n",
        "    print(model.summary())\n",
        "\n",
        "    return model"
      ],
      "metadata": {
        "id": "6pkL0mmYC1iH"
      },
      "execution_count": 46,
      "outputs": []
    },
    {
      "cell_type": "code",
      "source": [
        "model = FER_Model()\n",
        "opt = Adam(lr=0.0001, decay=1e-6)\n",
        "model.compile(loss='categorical_crossentropy', optimizer=opt, metrics=['accuracy'])"
      ],
      "metadata": {
        "colab": {
          "base_uri": "https://localhost:8080/"
        },
        "id": "x7TSh-1QC8Ef",
        "outputId": "dc0a5e0b-1b7a-4a12-f03f-75e59824cc40"
      },
      "execution_count": 47,
      "outputs": [
        {
          "output_type": "stream",
          "name": "stdout",
          "text": [
            "Model: \"model_1\"\n",
            "_________________________________________________________________\n",
            " Layer (type)                Output Shape              Param #   \n",
            "=================================================================\n",
            " input (InputLayer)          [(None, 48, 48, 1)]       0         \n",
            "                                                                 \n",
            " conv1_1 (Conv2D)            (None, 48, 48, 64)        640       \n",
            "                                                                 \n",
            " batch_normalization_17 (Bat  (None, 48, 48, 64)       256       \n",
            " chNormalization)                                                \n",
            "                                                                 \n",
            " conv1_2 (Conv2D)            (None, 48, 48, 64)        36928     \n",
            "                                                                 \n",
            " batch_normalization_18 (Bat  (None, 48, 48, 64)       256       \n",
            " chNormalization)                                                \n",
            "                                                                 \n",
            " pool1_1 (MaxPooling2D)      (None, 24, 24, 64)        0         \n",
            "                                                                 \n",
            " drop1_1 (Dropout)           (None, 24, 24, 64)        0         \n",
            "                                                                 \n",
            " conv2_1 (Conv2D)            (None, 24, 24, 128)       73856     \n",
            "                                                                 \n",
            " batch_normalization_19 (Bat  (None, 24, 24, 128)      512       \n",
            " chNormalization)                                                \n",
            "                                                                 \n",
            " conv2_2 (Conv2D)            (None, 24, 24, 128)       147584    \n",
            "                                                                 \n",
            " batch_normalization_20 (Bat  (None, 24, 24, 128)      512       \n",
            " chNormalization)                                                \n",
            "                                                                 \n",
            " conv2_3 (Conv2D)            (None, 24, 24, 128)       147584    \n",
            "                                                                 \n",
            " pool2_1 (MaxPooling2D)      (None, 12, 12, 128)       0         \n",
            "                                                                 \n",
            " drop2_1 (Dropout)           (None, 12, 12, 128)       0         \n",
            "                                                                 \n",
            " conv3_1 (Conv2D)            (None, 12, 12, 256)       295168    \n",
            "                                                                 \n",
            " batch_normalization_22 (Bat  (None, 12, 12, 256)      1024      \n",
            " chNormalization)                                                \n",
            "                                                                 \n",
            " conv3_2 (Conv2D)            (None, 12, 12, 256)       590080    \n",
            "                                                                 \n",
            " batch_normalization_23 (Bat  (None, 12, 12, 256)      1024      \n",
            " chNormalization)                                                \n",
            "                                                                 \n",
            " conv3_3 (Conv2D)            (None, 12, 12, 256)       590080    \n",
            "                                                                 \n",
            " batch_normalization_24 (Bat  (None, 12, 12, 256)      1024      \n",
            " chNormalization)                                                \n",
            "                                                                 \n",
            " conv3_4 (Conv2D)            (None, 12, 12, 256)       590080    \n",
            "                                                                 \n",
            " batch_normalization_25 (Bat  (None, 12, 12, 256)      1024      \n",
            " chNormalization)                                                \n",
            "                                                                 \n",
            " pool3_1 (MaxPooling2D)      (None, 6, 6, 256)         0         \n",
            "                                                                 \n",
            " drop3_1 (Dropout)           (None, 6, 6, 256)         0         \n",
            "                                                                 \n",
            " conv4_1 (Conv2D)            (None, 6, 6, 256)         590080    \n",
            "                                                                 \n",
            " batch_normalization_26 (Bat  (None, 6, 6, 256)        1024      \n",
            " chNormalization)                                                \n",
            "                                                                 \n",
            " conv4_2 (Conv2D)            (None, 6, 6, 256)         590080    \n",
            "                                                                 \n",
            " batch_normalization_27 (Bat  (None, 6, 6, 256)        1024      \n",
            " chNormalization)                                                \n",
            "                                                                 \n",
            " conv4_3 (Conv2D)            (None, 6, 6, 256)         590080    \n",
            "                                                                 \n",
            " batch_normalization_28 (Bat  (None, 6, 6, 256)        1024      \n",
            " chNormalization)                                                \n",
            "                                                                 \n",
            " conv4_4 (Conv2D)            (None, 6, 6, 256)         590080    \n",
            "                                                                 \n",
            " batch_normalization_29 (Bat  (None, 6, 6, 256)        1024      \n",
            " chNormalization)                                                \n",
            "                                                                 \n",
            " pool4_1 (MaxPooling2D)      (None, 3, 3, 256)         0         \n",
            "                                                                 \n",
            " drop4_1 (Dropout)           (None, 3, 3, 256)         0         \n",
            "                                                                 \n",
            " conv5_1 (Conv2D)            (None, 3, 3, 512)         1180160   \n",
            "                                                                 \n",
            " batch_normalization_30 (Bat  (None, 3, 3, 512)        2048      \n",
            " chNormalization)                                                \n",
            "                                                                 \n",
            " conv5_2 (Conv2D)            (None, 3, 3, 512)         2359808   \n",
            "                                                                 \n",
            " batch_normalization_31 (Bat  (None, 3, 3, 512)        2048      \n",
            " chNormalization)                                                \n",
            "                                                                 \n",
            " conv5_3 (Conv2D)            (None, 3, 3, 512)         2359808   \n",
            "                                                                 \n",
            " batch_normalization_32 (Bat  (None, 3, 3, 512)        2048      \n",
            " chNormalization)                                                \n",
            "                                                                 \n",
            " conv5_4 (Conv2D)            (None, 3, 3, 512)         2359808   \n",
            "                                                                 \n",
            " pool5_1 (MaxPooling2D)      (None, 1, 1, 512)         0         \n",
            "                                                                 \n",
            " drop5_1 (Dropout)           (None, 1, 1, 512)         0         \n",
            "                                                                 \n",
            " flatten (Flatten)           (None, 512)               0         \n",
            "                                                                 \n",
            " output (Dense)              (None, 7)                 3591      \n",
            "                                                                 \n",
            "=================================================================\n",
            "Total params: 13,111,367\n",
            "Trainable params: 13,103,431\n",
            "Non-trainable params: 7,936\n",
            "_________________________________________________________________\n",
            "None\n"
          ]
        },
        {
          "output_type": "stream",
          "name": "stderr",
          "text": [
            "/usr/local/lib/python3.10/dist-packages/keras/optimizers/legacy/adam.py:117: UserWarning: The `lr` argument is deprecated, use `learning_rate` instead.\n",
            "  super().__init__(name, **kwargs)\n"
          ]
        }
      ]
    },
    {
      "cell_type": "code",
      "source": [
        "num_epochs = 100\n",
        "history = model.fit_generator(train_flow,\n",
        "                    steps_per_epoch=len(X_train) / batch_size,\n",
        "                    epochs=num_epochs,\n",
        "                    verbose=1,\n",
        "                    validation_data=test_flow,\n",
        "                    validation_steps=len(X_test) / batch_size)"
      ],
      "metadata": {
        "colab": {
          "base_uri": "https://localhost:8080/"
        },
        "id": "wJF9g1lwC-DW",
        "outputId": "1610afd2-62da-4dd5-c5a7-7086c2cd6ba7"
      },
      "execution_count": 48,
      "outputs": [
        {
          "metadata": {
            "tags": null
          },
          "name": "stderr",
          "output_type": "stream",
          "text": [
            "<ipython-input-48-0fbfbc727754>:2: UserWarning: `Model.fit_generator` is deprecated and will be removed in a future version. Please use `Model.fit`, which supports generators.\n",
            "  history = model.fit_generator(train_flow,\n"
          ]
        },
        {
          "output_type": "stream",
          "name": "stdout",
          "text": [
            "Epoch 1/100\n",
            "267/267 [==============================] - 24s 84ms/step - loss: 2.1484 - accuracy: 0.2049\n",
            "Epoch 2/100\n",
            "267/267 [==============================] - 23s 85ms/step - loss: 1.8210 - accuracy: 0.2374\n",
            "Epoch 3/100\n",
            "267/267 [==============================] - 23s 86ms/step - loss: 1.7840 - accuracy: 0.2568\n",
            "Epoch 4/100\n",
            "267/267 [==============================] - 23s 87ms/step - loss: 1.7622 - accuracy: 0.2705\n",
            "Epoch 5/100\n",
            "267/267 [==============================] - 23s 87ms/step - loss: 1.7417 - accuracy: 0.2933\n",
            "Epoch 6/100\n",
            "267/267 [==============================] - 23s 86ms/step - loss: 1.7078 - accuracy: 0.3114\n",
            "Epoch 7/100\n",
            "267/267 [==============================] - 23s 86ms/step - loss: 1.6634 - accuracy: 0.3392\n",
            "Epoch 8/100\n",
            "267/267 [==============================] - 23s 88ms/step - loss: 1.6142 - accuracy: 0.3657\n",
            "Epoch 9/100\n",
            "267/267 [==============================] - 23s 86ms/step - loss: 1.5690 - accuracy: 0.3823\n",
            "Epoch 10/100\n",
            "267/267 [==============================] - 23s 86ms/step - loss: 1.5298 - accuracy: 0.4045\n",
            "Epoch 11/100\n",
            "267/267 [==============================] - 23s 87ms/step - loss: 1.4879 - accuracy: 0.4242\n",
            "Epoch 12/100\n",
            "267/267 [==============================] - 23s 87ms/step - loss: 1.4462 - accuracy: 0.4421\n",
            "Epoch 13/100\n",
            "267/267 [==============================] - 23s 87ms/step - loss: 1.4081 - accuracy: 0.4599\n",
            "Epoch 14/100\n",
            "267/267 [==============================] - 23s 87ms/step - loss: 1.3709 - accuracy: 0.4742\n",
            "Epoch 15/100\n",
            "267/267 [==============================] - 23s 86ms/step - loss: 1.3411 - accuracy: 0.4847\n",
            "Epoch 16/100\n",
            "267/267 [==============================] - 23s 86ms/step - loss: 1.3058 - accuracy: 0.4966\n",
            "Epoch 17/100\n",
            "267/267 [==============================] - 23s 87ms/step - loss: 1.2785 - accuracy: 0.5065\n",
            "Epoch 18/100\n",
            "267/267 [==============================] - 23s 87ms/step - loss: 1.2514 - accuracy: 0.5233\n",
            "Epoch 19/100\n",
            "267/267 [==============================] - 23s 86ms/step - loss: 1.2301 - accuracy: 0.5315\n",
            "Epoch 20/100\n",
            "267/267 [==============================] - 23s 86ms/step - loss: 1.2053 - accuracy: 0.5404\n",
            "Epoch 21/100\n",
            "267/267 [==============================] - 23s 87ms/step - loss: 1.1825 - accuracy: 0.5463\n",
            "Epoch 22/100\n",
            "267/267 [==============================] - 23s 87ms/step - loss: 1.1645 - accuracy: 0.5576\n",
            "Epoch 23/100\n",
            "267/267 [==============================] - 23s 87ms/step - loss: 1.1422 - accuracy: 0.5678\n",
            "Epoch 24/100\n",
            "267/267 [==============================] - 23s 87ms/step - loss: 1.1271 - accuracy: 0.5698\n",
            "Epoch 25/100\n",
            "267/267 [==============================] - 23s 88ms/step - loss: 1.1139 - accuracy: 0.5806\n",
            "Epoch 26/100\n",
            "267/267 [==============================] - 23s 87ms/step - loss: 1.0941 - accuracy: 0.5871\n",
            "Epoch 27/100\n",
            "267/267 [==============================] - 24s 88ms/step - loss: 1.0828 - accuracy: 0.5904\n",
            "Epoch 28/100\n",
            "267/267 [==============================] - 23s 87ms/step - loss: 1.0626 - accuracy: 0.5957\n",
            "Epoch 29/100\n",
            "267/267 [==============================] - 23s 86ms/step - loss: 1.0440 - accuracy: 0.6051\n",
            "Epoch 30/100\n",
            "267/267 [==============================] - 23s 87ms/step - loss: 1.0316 - accuracy: 0.6102\n",
            "Epoch 31/100\n",
            "267/267 [==============================] - 24s 90ms/step - loss: 1.0157 - accuracy: 0.6178\n",
            "Epoch 32/100\n",
            "267/267 [==============================] - 25s 94ms/step - loss: 1.0074 - accuracy: 0.6163\n",
            "Epoch 33/100\n",
            "267/267 [==============================] - 27s 99ms/step - loss: 0.9903 - accuracy: 0.6240\n",
            "Epoch 34/100\n",
            "267/267 [==============================] - 23s 87ms/step - loss: 0.9770 - accuracy: 0.6291\n",
            "Epoch 35/100\n",
            "267/267 [==============================] - 24s 89ms/step - loss: 0.9648 - accuracy: 0.6413\n",
            "Epoch 36/100\n",
            "267/267 [==============================] - 23s 86ms/step - loss: 0.9574 - accuracy: 0.6397\n",
            "Epoch 37/100\n",
            "267/267 [==============================] - 23s 87ms/step - loss: 0.9383 - accuracy: 0.6470\n",
            "Epoch 38/100\n",
            "267/267 [==============================] - 23s 87ms/step - loss: 0.9305 - accuracy: 0.6467\n",
            "Epoch 39/100\n",
            "267/267 [==============================] - 23s 86ms/step - loss: 0.9102 - accuracy: 0.6569\n",
            "Epoch 40/100\n",
            "267/267 [==============================] - 23s 87ms/step - loss: 0.9035 - accuracy: 0.6582\n",
            "Epoch 41/100\n",
            "267/267 [==============================] - 23s 86ms/step - loss: 0.8872 - accuracy: 0.6700\n",
            "Epoch 42/100\n",
            "267/267 [==============================] - 23s 87ms/step - loss: 0.8775 - accuracy: 0.6668\n",
            "Epoch 43/100\n",
            "267/267 [==============================] - 23s 86ms/step - loss: 0.8544 - accuracy: 0.6759\n",
            "Epoch 44/100\n",
            "267/267 [==============================] - 23s 86ms/step - loss: 0.8455 - accuracy: 0.6785\n",
            "Epoch 45/100\n",
            "267/267 [==============================] - 23s 87ms/step - loss: 0.8420 - accuracy: 0.6831\n",
            "Epoch 46/100\n",
            "267/267 [==============================] - 27s 103ms/step - loss: 0.8274 - accuracy: 0.6873\n",
            "Epoch 47/100\n",
            "267/267 [==============================] - 23s 88ms/step - loss: 0.8155 - accuracy: 0.6936\n",
            "Epoch 48/100\n",
            "267/267 [==============================] - 23s 86ms/step - loss: 0.8040 - accuracy: 0.6952\n",
            "Epoch 49/100\n",
            "267/267 [==============================] - 23s 85ms/step - loss: 0.7973 - accuracy: 0.6995\n",
            "Epoch 50/100\n",
            "267/267 [==============================] - 23s 85ms/step - loss: 0.7778 - accuracy: 0.7030\n",
            "Epoch 51/100\n",
            "267/267 [==============================] - 23s 87ms/step - loss: 0.7681 - accuracy: 0.7118\n",
            "Epoch 52/100\n",
            "267/267 [==============================] - 23s 87ms/step - loss: 0.7597 - accuracy: 0.7156\n",
            "Epoch 53/100\n",
            "267/267 [==============================] - 23s 86ms/step - loss: 0.7504 - accuracy: 0.7199\n",
            "Epoch 54/100\n",
            "267/267 [==============================] - 24s 88ms/step - loss: 0.7403 - accuracy: 0.7209\n",
            "Epoch 55/100\n",
            "267/267 [==============================] - 23s 87ms/step - loss: 0.7211 - accuracy: 0.7278\n",
            "Epoch 56/100\n",
            "267/267 [==============================] - 23s 87ms/step - loss: 0.7133 - accuracy: 0.7351\n",
            "Epoch 57/100\n",
            "267/267 [==============================] - 23s 87ms/step - loss: 0.7003 - accuracy: 0.7335\n",
            "Epoch 58/100\n",
            "267/267 [==============================] - 23s 86ms/step - loss: 0.6947 - accuracy: 0.7396\n",
            "Epoch 59/100\n",
            "267/267 [==============================] - 23s 86ms/step - loss: 0.6870 - accuracy: 0.7443\n",
            "Epoch 60/100\n",
            "267/267 [==============================] - 23s 86ms/step - loss: 0.6758 - accuracy: 0.7471\n",
            "Epoch 61/100\n",
            "267/267 [==============================] - 23s 86ms/step - loss: 0.6437 - accuracy: 0.7550\n",
            "Epoch 62/100\n",
            "267/267 [==============================] - 23s 87ms/step - loss: 0.6440 - accuracy: 0.7599\n",
            "Epoch 63/100\n",
            "267/267 [==============================] - 23s 86ms/step - loss: 0.6387 - accuracy: 0.7594\n",
            "Epoch 64/100\n",
            "267/267 [==============================] - 24s 88ms/step - loss: 0.6289 - accuracy: 0.7633\n",
            "Epoch 65/100\n",
            "267/267 [==============================] - 23s 87ms/step - loss: 0.6132 - accuracy: 0.7667\n",
            "Epoch 66/100\n",
            "267/267 [==============================] - 23s 87ms/step - loss: 0.6081 - accuracy: 0.7729\n",
            "Epoch 67/100\n",
            "267/267 [==============================] - 23s 87ms/step - loss: 0.6007 - accuracy: 0.7716\n",
            "Epoch 68/100\n",
            "267/267 [==============================] - 23s 87ms/step - loss: 0.5837 - accuracy: 0.7802\n",
            "Epoch 69/100\n",
            "267/267 [==============================] - 23s 86ms/step - loss: 0.5695 - accuracy: 0.7830\n",
            "Epoch 70/100\n",
            "267/267 [==============================] - 23s 86ms/step - loss: 0.5724 - accuracy: 0.7822\n",
            "Epoch 71/100\n",
            "267/267 [==============================] - 23s 86ms/step - loss: 0.5556 - accuracy: 0.7896\n",
            "Epoch 72/100\n",
            "267/267 [==============================] - 24s 88ms/step - loss: 0.5523 - accuracy: 0.7929\n",
            "Epoch 73/100\n",
            "267/267 [==============================] - 23s 88ms/step - loss: 0.5348 - accuracy: 0.7977\n",
            "Epoch 74/100\n",
            "267/267 [==============================] - 23s 87ms/step - loss: 0.5295 - accuracy: 0.8011\n",
            "Epoch 75/100\n",
            "267/267 [==============================] - 23s 87ms/step - loss: 0.5261 - accuracy: 0.8018\n",
            "Epoch 76/100\n",
            "267/267 [==============================] - 24s 88ms/step - loss: 0.5092 - accuracy: 0.8077\n",
            "Epoch 77/100\n",
            "267/267 [==============================] - 23s 87ms/step - loss: 0.4959 - accuracy: 0.8126\n",
            "Epoch 78/100\n",
            "267/267 [==============================] - 24s 88ms/step - loss: 0.4929 - accuracy: 0.8146\n",
            "Epoch 79/100\n",
            "267/267 [==============================] - 24s 88ms/step - loss: 0.4823 - accuracy: 0.8184\n",
            "Epoch 80/100\n",
            "267/267 [==============================] - 23s 86ms/step - loss: 0.4738 - accuracy: 0.8191\n",
            "Epoch 81/100\n",
            "267/267 [==============================] - 24s 88ms/step - loss: 0.4658 - accuracy: 0.8238\n",
            "Epoch 82/100\n",
            "267/267 [==============================] - 23s 87ms/step - loss: 0.4569 - accuracy: 0.8289\n",
            "Epoch 83/100\n",
            "267/267 [==============================] - 24s 88ms/step - loss: 0.4424 - accuracy: 0.8307\n",
            "Epoch 84/100\n",
            "267/267 [==============================] - 23s 87ms/step - loss: 0.4461 - accuracy: 0.8351\n",
            "Epoch 85/100\n",
            "267/267 [==============================] - 24s 88ms/step - loss: 0.4233 - accuracy: 0.8433\n",
            "Epoch 86/100\n",
            "267/267 [==============================] - 23s 87ms/step - loss: 0.4314 - accuracy: 0.8389\n",
            "Epoch 87/100\n",
            "267/267 [==============================] - 24s 88ms/step - loss: 0.4172 - accuracy: 0.8414\n",
            "Epoch 88/100\n",
            "267/267 [==============================] - 23s 86ms/step - loss: 0.4071 - accuracy: 0.8474\n",
            "Epoch 89/100\n",
            "267/267 [==============================] - 23s 86ms/step - loss: 0.4014 - accuracy: 0.8509\n",
            "Epoch 90/100\n",
            "267/267 [==============================] - 24s 88ms/step - loss: 0.3972 - accuracy: 0.8489\n",
            "Epoch 91/100\n",
            "267/267 [==============================] - 23s 86ms/step - loss: 0.3943 - accuracy: 0.8545\n",
            "Epoch 92/100\n",
            "267/267 [==============================] - 23s 87ms/step - loss: 0.3763 - accuracy: 0.8578\n",
            "Epoch 93/100\n",
            "267/267 [==============================] - 23s 87ms/step - loss: 0.3793 - accuracy: 0.8585\n",
            "Epoch 94/100\n",
            "267/267 [==============================] - 23s 86ms/step - loss: 0.3700 - accuracy: 0.8639\n",
            "Epoch 95/100\n",
            "267/267 [==============================] - 23s 86ms/step - loss: 0.3542 - accuracy: 0.8710\n",
            "Epoch 96/100\n",
            "267/267 [==============================] - 23s 87ms/step - loss: 0.3570 - accuracy: 0.8694\n",
            "Epoch 97/100\n",
            "267/267 [==============================] - 23s 86ms/step - loss: 0.3498 - accuracy: 0.8683\n",
            "Epoch 98/100\n",
            "267/267 [==============================] - 23s 86ms/step - loss: 0.3411 - accuracy: 0.8768\n",
            "Epoch 99/100\n",
            "267/267 [==============================] - 23s 88ms/step - loss: 0.3361 - accuracy: 0.8754\n",
            "Epoch 100/100\n",
            "267/267 [==============================] - 23s 86ms/step - loss: 0.3372 - accuracy: 0.8749\n"
          ]
        }
      ]
    },
    {
      "cell_type": "code",
      "source": [
        "model_json = model.to_json()\n",
        "with open(\"model.json\", \"w\") as json_file:\n",
        "    json_file.write(model_json)\n",
        "model.save_weights(\"model.h5\")\n",
        "print(\"Saved model to disk\")"
      ],
      "metadata": {
        "colab": {
          "base_uri": "https://localhost:8080/"
        },
        "id": "4cSCb_A4FT1s",
        "outputId": "eaa505e6-7b28-4808-e761-0702959caeb9"
      },
      "execution_count": 54,
      "outputs": [
        {
          "output_type": "stream",
          "name": "stdout",
          "text": [
            "Saved model to disk\n"
          ]
        }
      ]
    },
    {
      "cell_type": "code",
      "source": [
        "plt.style.use('dark_background')\n",
        "\n",
        "plt.figure(figsize=(20,10))\n",
        "plt.subplot(1, 2, 1)\n",
        "plt.suptitle('Optimizer : Adam', fontsize=10)\n",
        "plt.ylabel('Loss', fontsize=16)\n",
        "plt.plot(history.history['loss'], label='Training Loss')\n",
        "plt.legend(loc='upper right')\n",
        "\n",
        "plt.subplot(1, 2, 2)\n",
        "plt.ylabel('Accuracy', fontsize=16)\n",
        "plt.plot(history.history['accuracy'], label='Training Accuracy')\n",
        "plt.legend(loc='lower right')\n",
        "plt.show()"
      ],
      "metadata": {
        "colab": {
          "base_uri": "https://localhost:8080/",
          "height": 638
        },
        "id": "yyIzWOilMvfE",
        "outputId": "9e3dd7f5-382b-463c-be6c-b1decf7305ac"
      },
      "execution_count": 58,
      "outputs": [
        {
          "output_type": "display_data",
          "data": {
            "text/plain": [
              "<Figure size 2000x1000 with 2 Axes>"
            ],
            "image/png": "[encoded data removed]"
          },
          "metadata": {}
        }
      ]
    },
    {
      "cell_type": "code",
      "source": [],
      "metadata": {
        "id": "uHscCJh-bWvN"
      },
      "execution_count": null,
      "outputs": []
    }
  ]
}